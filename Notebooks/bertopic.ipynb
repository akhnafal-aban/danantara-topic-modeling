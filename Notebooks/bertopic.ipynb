{
 "cells": [
  {
   "cell_type": "code",
   "execution_count": 4,
   "id": "c134f5f8",
   "metadata": {},
   "outputs": [],
   "source": [
    "\n",
    "import pandas as pd\n",
    "import numpy as np\n",
    "# import torch\n",
    "# import transformers\n",
    "# import re\n",
    "# import emoji\n",
    "# import requests\n",
    "# import matplotlib.pyplot as plt\n",
    "# from collections import Counter\n",
    "# from IPython.display import clear_output"
   ]
  },
  {
   "cell_type": "code",
   "execution_count": 5,
   "id": "ef7f83ec",
   "metadata": {},
   "outputs": [],
   "source": [
    "url = 'https://docs.google.com/spreadsheets/d/e/2PACX-1vQ7wqCI7NBcZX8pDfgQ9st7tAgV6HNub2rXXM7pB5-IZP1HVz1MiEe3E7i6pbwpbWl7XAKHPVSbIkN4/pub?gid=419680706&single=true&output=csv'\n",
    "data_raw = pd.read_csv(url)"
   ]
  },
  {
   "cell_type": "code",
   "execution_count": 6,
   "id": "a2236169",
   "metadata": {},
   "outputs": [
    {
     "name": "stdout",
     "output_type": "stream",
     "text": [
      "['efisiensi terus uangnya dimasukkan ke danantara lalu efisiensinya dimana ndasmu', 'narasi ijazah jokowi in big 2025 literally ruu tni depan mata danantara depan mata bensin oplos depan mata', 'efisiensi yg kita kira diawal kan buat nambal buat alokasi dana ke proker utama tp ternyata kan cuma buat danantara jadi ya udah udah dipotong tekor jg masih', 'tung tang tung 10xmari ngutang lagi lewat danantaradsini ngutang disana ngutang tapi ga nyusu nyusu', 'demo danantara jg ampas krmn ga digubris wkwkwkw indonesia gelap aja malah dijadiin candaan pidato km ngetik gini ini sadar betul kah']\n"
     ]
    }
   ],
   "source": [
    "import re\n",
    "import emoji\n",
    "\n",
    "def clean_tweet(text):\n",
    "    text = re.sub(r'http\\S+|www\\S+', '', text)  # hapus url\n",
    "    text = re.sub(r'@[\\w_]+', '', text)         # hapus mention\n",
    "    text = re.sub(r'#\\w+', '', text)            # hapus hashtag\n",
    "    text = re.sub(r'RT[ ]?:?', '', text)         # hapus retweet/reply\n",
    "    text = emoji.replace_emoji(text, replace='') # hapus emoji\n",
    "    text = re.sub(r'[^\\w\\s]', '', text)        # hapus karakter non-alfanumerik\n",
    "    text = re.sub(r'\\s+', ' ', text)            # hapus spasi berlebih\n",
    "    return text.strip().lower()\n",
    "\n",
    "df = data_raw.copy()\n",
    "df['cleaned'] = df['tweets_norm'].astype(str).apply(clean_tweet)\n",
    "documents = df['cleaned'].tolist()\n",
    "print(documents[:5])"
   ]
  },
  {
   "cell_type": "code",
   "execution_count": 14,
   "id": "91f64e0c",
   "metadata": {},
   "outputs": [],
   "source": [
    "from transformers import BertTokenizerFast\n",
    "from datasets import Dataset\n",
    "\n",
    "# Membuat tokenizer baru dari data (WordPiece)\n",
    "# Tokenizer akan di-train dari data, bukan load pretrained\n",
    "from tokenizers import BertWordPieceTokenizer\n",
    "\n",
    "import os\n",
    "os.makedirs('Result/custombert', exist_ok=True)\n",
    "\n",
    "with open('Result/custombert/tweets_corpus.txt', 'w', encoding='utf-8') as f:\n",
    "    for line in documents:\n",
    "        f.write(line + '\\n')\n",
    "\n",
    "# Train tokenizer\n",
    "tokenizer = BertWordPieceTokenizer(lowercase=True)\n",
    "tokenizer.train(files=['Result/custombert/tweets_corpus.txt'], vocab_size=3000, min_frequency=2, special_tokens=[\"[PAD]\", \"[UNK]\", \"[CLS]\", \"[SEP]\", \"[MASK]\"])\n",
    "tokenizer.save_model('Result/custombert', 'custom_bert')\n",
    "\n",
    "# Load ke transformers\n",
    "hf_tokenizer = BertTokenizerFast(vocab_file='Result/custombert/custom_bert-vocab.txt')\n",
    "\n",
    "dataset = Dataset.from_dict({'text': documents})"
   ]
  },
  {
   "cell_type": "code",
   "execution_count": 15,
   "id": "86b8a8ee",
   "metadata": {},
   "outputs": [
    {
     "data": {
      "application/vnd.jupyter.widget-view+json": {
       "model_id": "93b4b560e6ae435cb6e50cfca4a53daa",
       "version_major": 2,
       "version_minor": 0
      },
      "text/plain": [
       "Map:   0%|          | 0/90563 [00:00<?, ? examples/s]"
      ]
     },
     "metadata": {},
     "output_type": "display_data"
    }
   ],
   "source": [
    "from transformers import BertConfig, BertForMaskedLM, DataCollatorForLanguageModeling\n",
    "from transformers import Trainer, TrainingArguments\n",
    "import torch\n",
    "\n",
    "def tokenize_function(examples):\n",
    "    return hf_tokenizer(examples['text'], truncation=True, padding='max_length', max_length=64)\n",
    "\n",
    "tokenized_dataset = dataset.map(tokenize_function, batched=True, remove_columns=['text'])\n",
    "\n",
    "data_collator = DataCollatorForLanguageModeling(tokenizer=hf_tokenizer, mlm=True, mlm_probability=0.15)\n",
    "\n",
    "# Definisikan konfigurasi BERT dari awal\n",
    "config = BertConfig(\n",
    "    vocab_size=hf_tokenizer.vocab_size,\n",
    "    hidden_size=128,\n",
    "    num_hidden_layers=2,\n",
    "    num_attention_heads=2,\n",
    "    intermediate_size=256,\n",
    "    max_position_embeddings=64,\n",
    ")\n",
    "\n",
    "model = BertForMaskedLM(config)\n"
   ]
  },
  {
   "cell_type": "code",
   "execution_count": 16,
   "id": "9b1d0d5b",
   "metadata": {},
   "outputs": [
    {
     "name": "stdout",
     "output_type": "stream",
     "text": [
      "torch: 2.6.0+cu126\n",
      "transformers: 4.52.4\n",
      "accelerate: 1.8.1\n"
     ]
    }
   ],
   "source": [
    "# Cek versi library penting\n",
    "import torch\n",
    "import transformers\n",
    "import accelerate\n",
    "print('torch:', torch.__version__)\n",
    "print('transformers:', transformers.__version__)\n",
    "print('accelerate:', accelerate.__version__)"
   ]
  },
  {
   "cell_type": "code",
   "execution_count": null,
   "id": "1f88f705",
   "metadata": {},
   "outputs": [],
   "source": [
    "# Training BERT dari awal (Masked Language Modeling)\n",
    "training_args = TrainingArguments(\n",
    "    output_dir=\"Result/custombert/bert-custom-out\",\n",
    "    overwrite_output_dir=True,\n",
    "    num_train_epochs=5,\n",
    "    per_device_train_batch_size=16,\n",
    "    save_steps=100,\n",
    "    save_total_limit=1,\n",
    "    logging_steps=20,\n",
    "    report_to=[],\n",
    ")\n",
    "\n",
    "trainer = Trainer(\n",
    "    model=model,\n",
    "    args=training_args,\n",
    "    train_dataset=tokenized_dataset,\n",
    "    data_collator=data_collator,\n",
    ")\n",
    "\n",
    "trainer.train()"
   ]
  },
  {
   "cell_type": "code",
   "execution_count": 18,
   "id": "630f8445",
   "metadata": {},
   "outputs": [
    {
     "name": "stderr",
     "output_type": "stream",
     "text": [
      "100%|████████████████████████████████████████████████████████████████████████████████| 5661/5661 [00:41<00:00, 137.86it/s]\n",
      "\n"
     ]
    }
   ],
   "source": [
    "# Mendapatkan embedding dokumen dari BERT hasil training\n",
    "from torch.utils.data import DataLoader\n",
    "from tqdm import tqdm\n",
    "\n",
    "model.eval()\n",
    "embeddings = []\n",
    "loader = DataLoader(tokenized_dataset, batch_size=16)\n",
    "\n",
    "device = torch.device(\"cuda\" if torch.cuda.is_available() else \"cpu\")\n",
    "model.to(device)\n",
    "\n",
    "with torch.no_grad():\n",
    "    for batch in tqdm(loader):\n",
    "        # Convert list of tensors to a single tensor\n",
    "        def to_tensor(x):\n",
    "            if torch.is_tensor(x):\n",
    "                return x\n",
    "            elif isinstance(x, list):\n",
    "                return torch.stack(x)\n",
    "            elif isinstance(x, tuple):\n",
    "                return torch.stack(list(x))\n",
    "            else:\n",
    "                return x\n",
    "        input_ids = to_tensor(batch['input_ids']).to(device)\n",
    "        attention_mask = to_tensor(batch['attention_mask']).to(device)\n",
    "        outputs = model.bert(input_ids=input_ids, attention_mask=attention_mask)\n",
    "        cls_emb = outputs.last_hidden_state[:, 0, :].cpu().numpy()\n",
    "        for emb in cls_emb:\n",
    "            embeddings.append(emb)\n",
    "import numpy as np\n",
    "embeddings = np.array(embeddings)\n"
   ]
  },
  {
   "cell_type": "code",
   "execution_count": 19,
   "id": "06ef0c5b",
   "metadata": {},
   "outputs": [
    {
     "name": "stdout",
     "output_type": "stream",
     "text": [
      "embeddings shape: (90563, 128)\n",
      "df shape: (90563, 11)\n",
      "labels shape: (90563,)\n",
      "Topik 0:  ['danantara', 'dan', 'danantaraporosinvestasi', 'yang', 'ekonomi', 'di', 'investasi', 'indonesia', 'dengan', 'untuk']\n",
      "Topik 1:  ['danantara', 'dan', 'ekonomi', 'yang', 'danantaraporosinvestasi', 'danantarabangunnegeri', 'di', 'indonesia', 'investasi', 'dengan']\n",
      "labels shape: (90563,)\n",
      "Topik 0:  ['danantara', 'dan', 'danantaraporosinvestasi', 'yang', 'ekonomi', 'di', 'investasi', 'indonesia', 'dengan', 'untuk']\n",
      "Topik 1:  ['danantara', 'dan', 'ekonomi', 'yang', 'danantaraporosinvestasi', 'danantarabangunnegeri', 'di', 'indonesia', 'investasi', 'dengan']\n",
      "Topik 2:  ['danantara', 'dan', 'ekonomi', 'yang', 'di', 'danantaraporosinvestasi', 'danantarabangunnegeri', 'indonesia', 'dengan', 'investasi']\n",
      "Topik 3:  ['danantara', 'dan', 'ekonomi', 'yang', 'danantaraporosinvestasi', 'danantarabangunnegeri', 'di', 'indonesia', 'investasi', 'dengan']\n",
      "Topik 4:  ['danantara', 'dan', 'ekonomi', 'yang', 'danantarabangunnegeri', 'di', 'danantaraporosinvestasi', 'indonesia', 'investasi', 'dengan']\n",
      "Topik 2:  ['danantara', 'dan', 'ekonomi', 'yang', 'di', 'danantaraporosinvestasi', 'danantarabangunnegeri', 'indonesia', 'dengan', 'investasi']\n",
      "Topik 3:  ['danantara', 'dan', 'ekonomi', 'yang', 'danantaraporosinvestasi', 'danantarabangunnegeri', 'di', 'indonesia', 'investasi', 'dengan']\n",
      "Topik 4:  ['danantara', 'dan', 'ekonomi', 'yang', 'danantarabangunnegeri', 'di', 'danantaraporosinvestasi', 'indonesia', 'investasi', 'dengan']\n"
     ]
    }
   ],
   "source": [
    "# Clustering embedding dokumen dan ekstraksi kata kunci\n",
    "# Pastikan hanya satu embedding per dokumen (batch)\n",
    "# embeddings seharusnya (n_docs, hidden_dim)\n",
    "\n",
    "# Jika embeddings.shape[0] > len(df), kemungkinan hasil vstack dari batch, perlu reshape\n",
    "# Ambil hanya baris pertama dari setiap batch_size (yaitu [0, batch_size, 2*batch_size, ...])\n",
    "batch_size = 16\n",
    "# Pastikan jumlah embeddings sama dengan jumlah dokumen\n",
    "if embeddings.shape[0] > len(df):\n",
    "    n_docs = len(df)\n",
    "    embeddings = embeddings[:n_docs]  # ambil hanya sebanyak jumlah dokumenumen\n",
    "\n",
    "print(\"embeddings shape:\", embeddings.shape)\n",
    "print(\"df shape:\", df.shape)\n",
    "\n",
    "from sklearn.cluster import KMeans\n",
    "n_clusters = 5\n",
    "kmeans = KMeans(n_clusters=n_clusters, random_state=42)\n",
    "labels = kmeans.fit_predict(embeddings)\n",
    "print(\"labels shape:\", labels.shape)\n",
    "\n",
    "def get_top_keywords(cluster_docs, n=10):\n",
    "    from collections import Counter\n",
    "    all_words = ' '.join(cluster_docs).split()\n",
    "    return [w for w, _ in Counter(all_words).most_common(n)]\n",
    "\n",
    "if len(labels) == len(df):\n",
    "    df['topic'] = labels\n",
    "    for i in range(n_clusters):\n",
    "        cluster_docs = df[df['topic'] == i]['cleaned'].tolist()\n",
    "        print(f\"Topik {i}: \", get_top_keywords(cluster_docs))\n",
    "else:\n",
    "    print(f\"Error: labels length ({len(labels)}) does not match df length ({len(df)})\")"
   ]
  },
  {
   "cell_type": "code",
   "execution_count": 20,
   "id": "87adc4b8",
   "metadata": {},
   "outputs": [
    {
     "data": {
      "image/png": "[encoded data removed]",
      "text/plain": [
       "<Figure size 800x600 with 1 Axes>"
      ]
     },
     "metadata": {},
     "output_type": "display_data"
    },
    {
     "name": "stdout",
     "output_type": "stream",
     "text": [
      "Hasil topic modeling disimpan ke Result/custombert/topic/topic_modeling_custombert.csv\n",
      "Kata kunci tiap topik disimpan ke Result/custombert/topic/topic_keywords_custombert.csv\n",
      "Kata kunci tiap topik disimpan ke Result/custombert/topic/topic_keywords_custombert.csv\n"
     ]
    }
   ],
   "source": [
    "# Visualisasi hasil topic modeling dan simpan ke CSV\n",
    "import matplotlib.pyplot as plt\n",
    "from sklearn.decomposition import PCA\n",
    "\n",
    "if 'topic' in df.columns:\n",
    "    pca = PCA(n_components=2)\n",
    "    emb2d = pca.fit_transform(embeddings)\n",
    "    plt.figure(figsize=(8,6))\n",
    "    for i in range(n_clusters):\n",
    "        idx = df['topic'] == i\n",
    "        plt.scatter(emb2d[idx,0], emb2d[idx,1], label=f\"Topik {i}\")\n",
    "    plt.legend()\n",
    "    plt.title(\"Visualisasi Topic Modeling (BERT dari Awal)\")\n",
    "    plt.show()\n",
    "\n",
    "    import os\n",
    "    # Simpan hasil topic modeling dan keywords per topik\n",
    "    os.makedirs('Result/custombert/topic', exist_ok=True)\n",
    "    df.to_csv('Result/custombert/topic/topic_modeling_custombert.csv', index=False)\n",
    "    print('Hasil topic modeling disimpan ke Result/custombert/topic/topic_modeling_custombert.csv')\n",
    "    # Simpan keywords per topik\n",
    "    topic_keywords = []\n",
    "    for i in range(n_clusters):\n",
    "        cluster_docs = df[df['topic'] == i]['cleaned'].tolist()\n",
    "        keywords = get_top_keywords(cluster_docs)\n",
    "        topic_keywords.append({'topic': i, 'keywords': ', '.join(keywords)})\n",
    "    import pandas as pd\n",
    "    pd.DataFrame(topic_keywords).to_csv('Result/custombert/topic/topic_keywords_custombert.csv', index=False)\n",
    "    print('Kata kunci tiap topik disimpan ke Result/custombert/topic/topic_keywords_custombert.csv')\n",
    "else:\n",
    "    print(\"Kolom 'topic' tidak ditemukan di df. Pastikan proses clustering berhasil dan jumlah label sesuai jumlah data.\")"
   ]
  }
 ],
 "metadata": {
  "kernelspec": {
   "display_name": "Python 3 (ipykernel)",
   "language": "python",
   "name": "python3"
  }
 },
 "nbformat": 4,
 "nbformat_minor": 5
}
